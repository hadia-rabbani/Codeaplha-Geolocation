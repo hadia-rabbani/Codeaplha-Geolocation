{
 "cells": [
  {
   "cell_type": "markdown",
   "id": "5b2c609e",
   "metadata": {},
   "source": [
    "# Geolocation"
   ]
  },
  {
   "cell_type": "code",
   "execution_count": 1,
   "id": "a5332a81",
   "metadata": {},
   "outputs": [
    {
     "name": "stdout",
     "output_type": "stream",
     "text": [
      "Requirement already satisfied: requests in c:\\users\\tewchnosellers\\appdata\\local\\programs\\python\\python311\\lib\\site-packages (2.31.0)Note: you may need to restart the kernel to use updated packages.\n",
      "\n",
      "Requirement already satisfied: folium in c:\\users\\tewchnosellers\\appdata\\local\\programs\\python\\python311\\lib\\site-packages (0.17.0)\n",
      "Requirement already satisfied: charset-normalizer<4,>=2 in c:\\users\\tewchnosellers\\appdata\\local\\programs\\python\\python311\\lib\\site-packages (from requests) (3.2.0)\n",
      "Requirement already satisfied: idna<4,>=2.5 in c:\\users\\tewchnosellers\\appdata\\local\\programs\\python\\python311\\lib\\site-packages (from requests) (3.4)\n",
      "Requirement already satisfied: urllib3<3,>=1.21.1 in c:\\users\\tewchnosellers\\appdata\\local\\programs\\python\\python311\\lib\\site-packages (from requests) (2.0.4)\n",
      "Requirement already satisfied: certifi>=2017.4.17 in c:\\users\\tewchnosellers\\appdata\\local\\programs\\python\\python311\\lib\\site-packages (from requests) (2023.7.22)\n",
      "Requirement already satisfied: branca>=0.6.0 in c:\\users\\tewchnosellers\\appdata\\local\\programs\\python\\python311\\lib\\site-packages (from folium) (0.7.2)\n",
      "Requirement already satisfied: jinja2>=2.9 in c:\\users\\tewchnosellers\\appdata\\local\\programs\\python\\python311\\lib\\site-packages (from folium) (3.1.2)\n",
      "Requirement already satisfied: numpy in c:\\users\\tewchnosellers\\appdata\\local\\programs\\python\\python311\\lib\\site-packages (from folium) (1.24.2)\n",
      "Requirement already satisfied: xyzservices in c:\\users\\tewchnosellers\\appdata\\local\\programs\\python\\python311\\lib\\site-packages (from folium) (2024.6.0)\n",
      "Requirement already satisfied: MarkupSafe>=2.0 in c:\\users\\tewchnosellers\\appdata\\local\\programs\\python\\python311\\lib\\site-packages (from jinja2>=2.9->folium) (2.1.3)\n"
     ]
    },
    {
     "name": "stderr",
     "output_type": "stream",
     "text": [
      "\n",
      "[notice] A new release of pip is available: 23.3.1 -> 24.1.2\n",
      "[notice] To update, run: python.exe -m pip install --upgrade pip\n"
     ]
    }
   ],
   "source": [
    "pip install requests folium"
   ]
  },
  {
   "cell_type": "code",
   "execution_count": 2,
   "id": "b0fbc0e8",
   "metadata": {},
   "outputs": [],
   "source": [
    "import requests\n",
    "import folium"
   ]
  },
  {
   "cell_type": "code",
   "execution_count": 7,
   "id": "b130dbca",
   "metadata": {},
   "outputs": [
    {
     "name": "stdout",
     "output_type": "stream",
     "text": [
      "Enter the IP address: 208.67.222.222\n",
      "Map has been saved as 'geolocation_map.html'\n"
     ]
    }
   ],
   "source": [
    "def get_geolocation(ip_address):\n",
    "    try:\n",
    "        response = requests.get(f'http://ip-api.com/json/{ip_address}')\n",
    "        data = response.json()\n",
    "        if data['status'] == 'success':\n",
    "            return data\n",
    "        else:\n",
    "            print(f\"Error fetching data: {data['message']}\")\n",
    "            return None\n",
    "    except Exception as e:\n",
    "        print(f\"An error occurred: {e}\")\n",
    "        return None\n",
    "\n",
    "def create_map(latitude, longitude, location_name):\n",
    "    location_map = folium.Map(location=[latitude, longitude], zoom_start=12)\n",
    "    folium.Marker([latitude, longitude], popup=location_name).add_to(location_map)\n",
    "    return location_map\n",
    "\n",
    "def main():\n",
    "    ip_address = input(\"Enter the IP address: \")\n",
    "    geolocation_data = get_geolocation(ip_address)\n",
    "    if geolocation_data:\n",
    "        latitude = geolocation_data['lat']\n",
    "        longitude = geolocation_data['lon']\n",
    "        location_name = geolocation_data['city']\n",
    "        location_map = create_map(latitude, longitude, location_name)\n",
    "        location_map.save(\"geolocation_map.html\")\n",
    "        print(\"Map has been saved as 'geolocation_map.html'\")\n",
    "    else:\n",
    "        print(\"Could not retrieve geolocation data.\")\n",
    "\n",
    "if __name__ == \"__main__\":\n",
    "    main()"
   ]
  },
  {
   "cell_type": "code",
   "execution_count": null,
   "id": "6438accb",
   "metadata": {},
   "outputs": [],
   "source": []
  }
 ],
 "metadata": {
  "kernelspec": {
   "display_name": "Python 3 (ipykernel)",
   "language": "python",
   "name": "python3"
  },
  "language_info": {
   "codemirror_mode": {
    "name": "ipython",
    "version": 3
   },
   "file_extension": ".py",
   "mimetype": "text/x-python",
   "name": "python",
   "nbconvert_exporter": "python",
   "pygments_lexer": "ipython3",
   "version": "3.11.2"
  }
 },
 "nbformat": 4,
 "nbformat_minor": 5
}
